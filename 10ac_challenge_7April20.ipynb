{
  "nbformat": 4,
  "nbformat_minor": 0,
  "metadata": {
    "colab": {
      "name": "10ac_challenge_7April20.ipynb",
      "provenance": [],
      "mount_file_id": "1u9SEB9m1uEB5XzG4Y946HeoM6Oiihe5R",
      "authorship_tag": "ABX9TyPQozk64jujMi82glkpoiP0",
      "include_colab_link": true
    },
    "kernelspec": {
      "name": "python3",
      "display_name": "Python 3"
    }
  },
  "cells": [
    {
      "cell_type": "markdown",
      "metadata": {
        "id": "view-in-github",
        "colab_type": "text"
      },
      "source": [
        "<a href=\"https://colab.research.google.com/github/10acad/challenges/blob/master/10ac_challenge_7April20.ipynb\" target=\"_parent\"><img src=\"https://colab.research.google.com/assets/colab-badge.svg\" alt=\"Open In Colab\"/></a>"
      ]
    },
    {
      "cell_type": "markdown",
      "metadata": {
        "id": "Wco8PXZfE5t9",
        "colab_type": "text"
      },
      "source": [
        "Model A takes an input image of $NxN$ and returns an $MxM$ where $M<<N$. \n",
        "\n",
        "Model B takes the $MxM$ output of model A, and returns three values - probabilities of being a cat, a dog, and a fox. \n",
        "\n",
        "1. What does model A do?  Explian your reasoning \n",
        "\n",
        "  (a) Filtering \\\n",
        "  (b) Dimensional reduction \\\n",
        "  (c) Image resizing \\\n",
        "  (d) b & c\n",
        "\n",
        "1. What does model B do? Explian your reasoning\n",
        "\n",
        " (a) Classification \\\n",
        " (b) Segmentation \\\n",
        " (c) Clustering \\\n"
      ]
    },
    {
      "cell_type": "code",
      "metadata": {
        "id": "e5caJLzEO9-y",
        "colab_type": "code",
        "colab": {}
      },
      "source": [
        ""
      ],
      "execution_count": 0,
      "outputs": []
    },
    {
      "cell_type": "markdown",
      "metadata": {
        "id": "NtOOmSIZPAG4",
        "colab_type": "text"
      },
      "source": [
        "A bag of words dictionary has the following words as basis $(python, javascript, go)$. A document has the following paragraph  \n",
        "\n",
        "> `Python is a strongly typed, dynamic language. Go is a statically typed, strong language. JavaScript is a dynamic language which is weakly typed. Learning Go is useful for fast execution. Learning Python for fast development among many other advantages, and JavaScript to program for web applications.`\n",
        "\n",
        "Perform the following \n",
        " 1. remove stopping words, convert all characters to small letters \n",
        " 2. count the term freqency (TF) of words \n",
        " 3. what is the coordinate values of this paragraph  on $(python, javascript, go)$ space?\n"
      ]
    },
    {
      "cell_type": "code",
      "metadata": {
        "id": "FKWNq8D3QJID",
        "colab_type": "code",
        "colab": {}
      },
      "source": [
        ""
      ],
      "execution_count": 0,
      "outputs": []
    },
    {
      "cell_type": "markdown",
      "metadata": {
        "id": "08etYNtNQJoE",
        "colab_type": "text"
      },
      "source": [
        "The following is a plot of the SARS-COV-2 virus RNA base letters.\n",
        "\n",
        "![alt text](https://github.com/10acad/challenges/blob/master/images/download.png?raw=true)\n",
        "\n",
        "Download or copy the ~30000 a,t,c,g sequences from [here](https://pastebin.com/raw/VZ6BfvuK). Hint - use python `requests` library. \n",
        "\n",
        "The plot is produced using the following **RGB color** transformation (a, t, c, g are RNA & DNA base letters): \n",
        "\n",
        " - a: (0.86, 0.37, 0.34)\n",
        " - t: (0.57, 0.86, 0.34)\n",
        " - c: (0.34, 0.83, 0.86)\n",
        " - g: (0.63, 0.34, 0.86)\n",
        "\n",
        "i) what are the frequencies of the four base letters? \\\n",
        "ii) reduce the plot and upload"
      ]
    },
    {
      "cell_type": "code",
      "metadata": {
        "id": "6J7nRKdhRFy0",
        "colab_type": "code",
        "colab": {}
      },
      "source": [
        ""
      ],
      "execution_count": 0,
      "outputs": []
    }
  ]
}